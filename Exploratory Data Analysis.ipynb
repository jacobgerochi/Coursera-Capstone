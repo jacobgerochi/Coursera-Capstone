{
    "cells": [
        {
            "metadata": {},
            "cell_type": "markdown",
            "source": "<center>\n    <img src=\"https://gitlab.com/ibm/skills-network/courses/placeholder101/-/raw/master/labs/module%201/images/IDSNlogo.png\" width=\"300\" alt=\"cognitiveclass.ai logo\"  />\n</center>\n"
        },
        {
            "metadata": {},
            "cell_type": "markdown",
            "source": "# **Exploratory Data Analysis Lab**\n"
        },
        {
            "metadata": {},
            "cell_type": "markdown",
            "source": "Estimated time needed: **30** minutes\n"
        },
        {
            "metadata": {},
            "cell_type": "markdown",
            "source": "In this module you get to work with the cleaned dataset from the previous module.\n\nIn this assignment you will perform the task of exploratory data analysis.\nYou will find out the distribution of data, presence of outliers and also determine the correlation between different columns in the dataset.\n"
        },
        {
            "metadata": {},
            "cell_type": "markdown",
            "source": "## Objectives\n"
        },
        {
            "metadata": {},
            "cell_type": "markdown",
            "source": "In this lab you will perform the following:\n"
        },
        {
            "metadata": {},
            "cell_type": "markdown",
            "source": "-   Identify the distribution of data in the dataset.\n\n-   Identify outliers in the dataset.\n\n-   Remove outliers from the dataset.\n\n-   Identify correlation between features in the dataset.\n"
        },
        {
            "metadata": {},
            "cell_type": "markdown",
            "source": "* * *\n"
        },
        {
            "metadata": {},
            "cell_type": "markdown",
            "source": "## Hands on Lab\n"
        },
        {
            "metadata": {},
            "cell_type": "markdown",
            "source": "Import the pandas module.\n"
        },
        {
            "metadata": {},
            "cell_type": "code",
            "source": "import pandas as pd",
            "execution_count": 1,
            "outputs": []
        },
        {
            "metadata": {},
            "cell_type": "markdown",
            "source": "Load the dataset into a dataframe.\n"
        },
        {
            "metadata": {},
            "cell_type": "code",
            "source": "df = pd.read_csv(\"https://cf-courses-data.s3.us.cloud-object-storage.appdomain.cloud/IBM-DA0321EN-SkillsNetwork/LargeData/m2_survey_data.csv\")\ndf['ConvertedComp'].head()",
            "execution_count": 6,
            "outputs": [
                {
                    "output_type": "execute_result",
                    "execution_count": 6,
                    "data": {
                        "text/plain": "0     61000.0\n1     95179.0\n2     90000.0\n3    455352.0\n4     65277.0\nName: ConvertedComp, dtype: float64"
                    },
                    "metadata": {}
                }
            ]
        },
        {
            "metadata": {},
            "cell_type": "markdown",
            "source": "## Distribution\n"
        },
        {
            "metadata": {},
            "cell_type": "markdown",
            "source": "### Determine how the data is distributed\n"
        },
        {
            "metadata": {},
            "cell_type": "markdown",
            "source": "The column `ConvertedComp` contains Salary converted to annual USD salaries using the exchange rate on 2019-02-01.\n\nThis assumes 12 working months and 50 working weeks.\n"
        },
        {
            "metadata": {},
            "cell_type": "markdown",
            "source": "Plot the distribution curve for the column `ConvertedComp`.\n"
        },
        {
            "metadata": {},
            "cell_type": "code",
            "source": "# your code goes here\nimport matplotlib.pyplot as plt\nimport matplotlib as mpl\nconv_comp = df['ConvertedComp']\nmpl.style.use(['ggplot'])\nconv_comp.plot(kind='line')",
            "execution_count": 10,
            "outputs": [
                {
                    "output_type": "execute_result",
                    "execution_count": 10,
                    "data": {
                        "text/plain": "<matplotlib.axes._subplots.AxesSubplot at 0x7fd0ffac1c90>"
                    },
                    "metadata": {}
                },
                {
                    "output_type": "display_data",
                    "data": {
                        "text/plain": "<Figure size 432x288 with 1 Axes>",
                        "image/png": "[encoded data removed]"
                    },
                    "metadata": {}
                }
            ]
        },
        {
            "metadata": {},
            "cell_type": "markdown",
            "source": "Plot the histogram for the column `ConvertedComp`.\n"
        },
        {
            "metadata": {},
            "cell_type": "code",
            "source": "# your code goes here\nconv_comp.plot(kind='hist')",
            "execution_count": 11,
            "outputs": [
                {
                    "output_type": "execute_result",
                    "execution_count": 11,
                    "data": {
                        "text/plain": "<matplotlib.axes._subplots.AxesSubplot at 0x7fd0ffa62a10>"
                    },
                    "metadata": {}
                },
                {
                    "output_type": "display_data",
                    "data": {
                        "text/plain": "<Figure size 432x288 with 1 Axes>",
                        "image/png": "[encoded data removed]"
                    },
                    "metadata": {}
                }
            ]
        },
        {
            "metadata": {},
            "cell_type": "markdown",
            "source": "What is the median of the column `ConvertedComp`?\n"
        },
        {
            "metadata": {},
            "cell_type": "code",
            "source": "# your code goes here\ndf['ConvertedComp'].median()",
            "execution_count": 13,
            "outputs": [
                {
                    "output_type": "execute_result",
                    "execution_count": 13,
                    "data": {
                        "text/plain": "57745.0"
                    },
                    "metadata": {}
                }
            ]
        },
        {
            "metadata": {},
            "cell_type": "markdown",
            "source": "How many responders identified themselves only as a **Man**?\n"
        },
        {
            "metadata": {},
            "cell_type": "code",
            "source": "# your code goes here\ndf['Gender'].value_counts()",
            "execution_count": 15,
            "outputs": [
                {
                    "output_type": "execute_result",
                    "execution_count": 15,
                    "data": {
                        "text/plain": "Man                                                            10480\nWoman                                                            731\nNon-binary, genderqueer, or gender non-conforming                 63\nMan;Non-binary, genderqueer, or gender non-conforming             26\nWoman;Non-binary, genderqueer, or gender non-conforming           14\nWoman;Man                                                          9\nWoman;Man;Non-binary, genderqueer, or gender non-conforming        2\nName: Gender, dtype: int64"
                    },
                    "metadata": {}
                }
            ]
        },
        {
            "metadata": {},
            "cell_type": "markdown",
            "source": "Find out the  median ConvertedComp of responders identified themselves only as a **Woman**?\n"
        },
        {
            "metadata": {},
            "cell_type": "code",
            "source": "# your code goes here\nwoman_df = df[df['Gender'] == 'Woman']\nwoman_df['ConvertedComp'].median()",
            "execution_count": 16,
            "outputs": [
                {
                    "output_type": "execute_result",
                    "execution_count": 16,
                    "data": {
                        "text/plain": "57708.0"
                    },
                    "metadata": {}
                }
            ]
        },
        {
            "metadata": {},
            "cell_type": "markdown",
            "source": "Give the five number summary for the column `Age`?\n"
        },
        {
            "metadata": {},
            "cell_type": "markdown",
            "source": "**Double click here for hint**.\n\n<!--\nmin,q1,median,q3,max of a column are its five number summary.\n-->\n"
        },
        {
            "metadata": {},
            "cell_type": "code",
            "source": "# your code goes here\nprint(\"Min: {}\".format(df['Age'].min()))\nprint(\"Q1: {}\".format(df['Age'].quantile(q=0.25)))\nprint(\"Median: {}\".format(df['Age'].quantile(q=0.5)))\nprint(\"Q3: {}\".format(df['Age'].quantile(q=0.75)))\nprint(\"Max: {}\".format(df['Age'].max()))",
            "execution_count": 26,
            "outputs": [
                {
                    "output_type": "stream",
                    "text": "Min: 16.0\nQ1: 25.0\nMedian: 29.0\nQ3: 35.0\nMax: 99.0\n",
                    "name": "stdout"
                }
            ]
        },
        {
            "metadata": {},
            "cell_type": "markdown",
            "source": "Plot a histogram of the column `Age`.\n"
        },
        {
            "metadata": {},
            "cell_type": "code",
            "source": "# your code goes here\ndf['Age'].plot(kind='hist')",
            "execution_count": 14,
            "outputs": [
                {
                    "output_type": "execute_result",
                    "execution_count": 14,
                    "data": {
                        "text/plain": "<matplotlib.axes._subplots.AxesSubplot at 0x7fd0ff9f2790>"
                    },
                    "metadata": {}
                },
                {
                    "output_type": "display_data",
                    "data": {
                        "text/plain": "<Figure size 432x288 with 1 Axes>",
                        "image/png": "[encoded data removed]"
                    },
                    "metadata": {}
                }
            ]
        },
        {
            "metadata": {},
            "cell_type": "markdown",
            "source": "## Outliers\n"
        },
        {
            "metadata": {},
            "cell_type": "markdown",
            "source": "### Finding outliers\n"
        },
        {
            "metadata": {},
            "cell_type": "markdown",
            "source": "Find out if outliers exist in the column `ConvertedComp` using a box plot?\n"
        },
        {
            "metadata": {},
            "cell_type": "code",
            "source": "# your code goes here\ndf['ConvertedComp'].plot(kind='box', figsize=(8,6))",
            "execution_count": 20,
            "outputs": [
                {
                    "output_type": "execute_result",
                    "execution_count": 20,
                    "data": {
                        "text/plain": "<matplotlib.axes._subplots.AxesSubplot at 0x7fd107093e90>"
                    },
                    "metadata": {}
                },
                {
                    "output_type": "display_data",
                    "data": {
                        "text/plain": "<Figure size 576x432 with 1 Axes>",
                        "image/png": "[encoded data removed]"
                    },
                    "metadata": {}
                }
            ]
        },
        {
            "metadata": {},
            "cell_type": "code",
            "source": "df['ConvertedComp'].median()",
            "execution_count": 35,
            "outputs": [
                {
                    "output_type": "execute_result",
                    "execution_count": 35,
                    "data": {
                        "text/plain": "57745.0"
                    },
                    "metadata": {}
                }
            ]
        },
        {
            "metadata": {},
            "cell_type": "markdown",
            "source": "Find out the Inter Quartile Range for the column `ConvertedComp`.\n"
        },
        {
            "metadata": {},
            "cell_type": "code",
            "source": "# your code goes here\nIQR = (df['ConvertedComp'].quantile(q=0.75) - df['ConvertedComp'].quantile(q=0.25))\nIQR",
            "execution_count": 27,
            "outputs": [
                {
                    "output_type": "execute_result",
                    "execution_count": 27,
                    "data": {
                        "text/plain": "73132.0"
                    },
                    "metadata": {}
                }
            ]
        },
        {
            "metadata": {},
            "cell_type": "markdown",
            "source": "Find out the upper and lower bounds.\n"
        },
        {
            "metadata": {},
            "cell_type": "code",
            "source": "# your code goes here\nprint(df['ConvertedComp'].min())\nprint(df['ConvertedComp'].max())",
            "execution_count": 22,
            "outputs": [
                {
                    "output_type": "stream",
                    "text": "0.0\n2000000.0\n",
                    "name": "stdout"
                }
            ]
        },
        {
            "metadata": {},
            "cell_type": "markdown",
            "source": "Identify how many outliers are there in the `ConvertedComp` column.\n"
        },
        {
            "metadata": {},
            "cell_type": "code",
            "source": "# your code goes here\noutliers = df[df['ConvertedComp'] > (df['ConvertedComp'].quantile(q=0.75) + 1.5*IQR)]\noutliers2 = df[df['ConvertedComp'] < (df['ConvertedComp'].quantile(q=0.25) - 1.5*IQR)]\nprint(\"There are a total of {} outliers\".format(outliers.shape[0] + outliers2.shape[0]))",
            "execution_count": 31,
            "outputs": [
                {
                    "output_type": "stream",
                    "text": "There are a total of 879 outliers\n",
                    "name": "stdout"
                }
            ]
        },
        {
            "metadata": {},
            "cell_type": "markdown",
            "source": "Create a new dataframe by removing the outliers from the `ConvertedComp` column.\n"
        },
        {
            "metadata": {},
            "cell_type": "code",
            "source": "# your code goes here\nnew_df = df[df['ConvertedComp'].isin(outliers) == False]\nnew_df.reset_index(inplace=True)\nprint(\"Mean: {}\".format(new_df['ConvertedComp'].mean()))\nprint(\"Median: {}\".format(new_df['ConvertedComp'].median()))",
            "execution_count": 51,
            "outputs": [
                {
                    "output_type": "stream",
                    "text": "Mean: 59883.20838915799\nMedian: 52704.0\n",
                    "name": "stdout"
                }
            ]
        },
        {
            "metadata": {},
            "cell_type": "markdown",
            "source": "## Correlation\n"
        },
        {
            "metadata": {},
            "cell_type": "markdown",
            "source": "### Finding correlation\n"
        },
        {
            "metadata": {},
            "cell_type": "markdown",
            "source": "Find the correlation between `Age` and all other numerical columns.\n"
        },
        {
            "metadata": {},
            "cell_type": "code",
            "source": "# your code goes here\ndf.corr()",
            "execution_count": 34,
            "outputs": [
                {
                    "output_type": "execute_result",
                    "execution_count": 34,
                    "data": {
                        "text/plain": "               Respondent  CompTotal  ConvertedComp  WorkWeekHrs  CodeRevHrs  \\\nRespondent       1.000000  -0.013490       0.002181    -0.015314    0.004621   \nCompTotal       -0.013490   1.000000       0.001037     0.003510    0.007063   \nConvertedComp    0.002181   0.001037       1.000000     0.021143   -0.033865   \nWorkWeekHrs     -0.015314   0.003510       0.021143     1.000000    0.026517   \nCodeRevHrs       0.004621   0.007063      -0.033865     0.026517    1.000000   \nAge              0.004041   0.006970       0.105386     0.036518   -0.020469   \n\n                    Age  \nRespondent     0.004041  \nCompTotal      0.006970  \nConvertedComp  0.105386  \nWorkWeekHrs    0.036518  \nCodeRevHrs    -0.020469  \nAge            1.000000  ",
                        "text/html": "<div>\n<style scoped>\n    .dataframe tbody tr th:only-of-type {\n        vertical-align: middle;\n    }\n\n    .dataframe tbody tr th {\n        vertical-align: top;\n    }\n\n    .dataframe thead th {\n        text-align: right;\n    }\n</style>\n<table border=\"1\" class=\"dataframe\">\n  <thead>\n    <tr style=\"text-align: right;\">\n      <th></th>\n      <th>Respondent</th>\n      <th>CompTotal</th>\n      <th>ConvertedComp</th>\n      <th>WorkWeekHrs</th>\n      <th>CodeRevHrs</th>\n      <th>Age</th>\n    </tr>\n  </thead>\n  <tbody>\n    <tr>\n      <th>Respondent</th>\n      <td>1.000000</td>\n      <td>-0.013490</td>\n      <td>0.002181</td>\n      <td>-0.015314</td>\n      <td>0.004621</td>\n      <td>0.004041</td>\n    </tr>\n    <tr>\n      <th>CompTotal</th>\n      <td>-0.013490</td>\n      <td>1.000000</td>\n      <td>0.001037</td>\n      <td>0.003510</td>\n      <td>0.007063</td>\n      <td>0.006970</td>\n    </tr>\n    <tr>\n      <th>ConvertedComp</th>\n      <td>0.002181</td>\n      <td>0.001037</td>\n      <td>1.000000</td>\n      <td>0.021143</td>\n      <td>-0.033865</td>\n      <td>0.105386</td>\n    </tr>\n    <tr>\n      <th>WorkWeekHrs</th>\n      <td>-0.015314</td>\n      <td>0.003510</td>\n      <td>0.021143</td>\n      <td>1.000000</td>\n      <td>0.026517</td>\n      <td>0.036518</td>\n    </tr>\n    <tr>\n      <th>CodeRevHrs</th>\n      <td>0.004621</td>\n      <td>0.007063</td>\n      <td>-0.033865</td>\n      <td>0.026517</td>\n      <td>1.000000</td>\n      <td>-0.020469</td>\n    </tr>\n    <tr>\n      <th>Age</th>\n      <td>0.004041</td>\n      <td>0.006970</td>\n      <td>0.105386</td>\n      <td>0.036518</td>\n      <td>-0.020469</td>\n      <td>1.000000</td>\n    </tr>\n  </tbody>\n</table>\n</div>"
                    },
                    "metadata": {}
                }
            ]
        },
        {
            "metadata": {},
            "cell_type": "markdown",
            "source": "## Authors\n"
        },
        {
            "metadata": {},
            "cell_type": "markdown",
            "source": "Ramesh Sannareddy\n"
        },
        {
            "metadata": {},
            "cell_type": "markdown",
            "source": "### Other Contributors\n"
        },
        {
            "metadata": {},
            "cell_type": "markdown",
            "source": "Rav Ahuja\n"
        },
        {
            "metadata": {},
            "cell_type": "markdown",
            "source": "## Change Log\n"
        },
        {
            "metadata": {},
            "cell_type": "markdown",
            "source": "| Date (YYYY-MM-DD) | Version | Changed By        | Change Description                 |\n| ----------------- | ------- | ----------------- | ---------------------------------- |\n| 2020-10-17        | 0.1     | Ramesh Sannareddy | Created initial version of the lab |\n"
        },
        {
            "metadata": {},
            "cell_type": "markdown",
            "source": " Copyright \u00a9 2020 IBM Corporation. This notebook and its source code are released under the terms of the [MIT License](https://cognitiveclass.ai/mit-license?cm_mmc=Email_Newsletter-_-Developer_Ed%2BTech-_-WW_WW-_-SkillsNetwork-Courses-IBM-DA0321EN-SkillsNetwork-21426264&cm_mmca1=000026UJ&cm_mmca2=10006555&cm_mmca3=M12345678&cvosrc=email.Newsletter.M12345678&cvo_campaign=000026UJ&cm_mmc=Email_Newsletter-_-Developer_Ed%2BTech-_-WW_WW-_-SkillsNetwork-Courses-IBM-DA0321EN-SkillsNetwork-21426264&cm_mmca1=000026UJ&cm_mmca2=10006555&cm_mmca3=M12345678&cvosrc=email.Newsletter.M12345678&cvo_campaign=000026UJ&cm_mmc=Email_Newsletter-_-Developer_Ed%2BTech-_-WW_WW-_-SkillsNetwork-Courses-IBM-DA0321EN-SkillsNetwork-21426264&cm_mmca1=000026UJ&cm_mmca2=10006555&cm_mmca3=M12345678&cvosrc=email.Newsletter.M12345678&cvo_campaign=000026UJ&cm_mmc=Email_Newsletter-_-Developer_Ed%2BTech-_-WW_WW-_-SkillsNetwork-Courses-IBM-DA0321EN-SkillsNetwork-21426264&cm_mmca1=000026UJ&cm_mmca2=10006555&cm_mmca3=M12345678&cvosrc=email.Newsletter.M12345678&cvo_campaign=000026UJ&cm_mmc=Email_Newsletter-_-Developer_Ed%2BTech-_-WW_WW-_-SkillsNetwork-Courses-IBM-DA0321EN-SkillsNetwork-21426264&cm_mmca1=000026UJ&cm_mmca2=10006555&cm_mmca3=M12345678&cvosrc=email.Newsletter.M12345678&cvo_campaign=000026UJ&cm_mmc=Email_Newsletter-_-Developer_Ed%2BTech-_-WW_WW-_-SkillsNetwork-Courses-IBM-DA0321EN-SkillsNetwork-21426264&cm_mmca1=000026UJ&cm_mmca2=10006555&cm_mmca3=M12345678&cvosrc=email.Newsletter.M12345678&cvo_campaign=000026UJ).\n"
        }
    ],
    "metadata": {
        "kernelspec": {
            "name": "python3",
            "display_name": "Python 3.7",
            "language": "python"
        },
        "language_info": {
            "name": "python",
            "version": "3.7.9",
            "mimetype": "text/x-python",
            "codemirror_mode": {
                "name": "ipython",
                "version": 3
            },
            "pygments_lexer": "ipython3",
            "nbconvert_exporter": "python",
            "file_extension": ".py"
        }
    },
    "nbformat": 4,
    "nbformat_minor": 4
}